{
 "cells": [
  {
   "cell_type": "code",
   "execution_count": 1,
   "metadata": {},
   "outputs": [
    {
     "name": "stderr",
     "output_type": "stream",
     "text": [
      "/Users/anantvishwakarma/Library/Python/3.9/lib/python/site-packages/urllib3/__init__.py:35: NotOpenSSLWarning: urllib3 v2 only supports OpenSSL 1.1.1+, currently the 'ssl' module is compiled with 'LibreSSL 2.8.3'. See: https://github.com/urllib3/urllib3/issues/3020\n",
      "  warnings.warn(\n"
     ]
    }
   ],
   "source": [
    "import requests\n",
    "import json\n",
    "\n",
    "# Define the diseases to search for\n",
    "diseases = [\"Irritable Bowel Syndrome\", \"Celiac Disease\", \"Crohn's Disease\"]\n",
    "\n",
    "# Define the base URL for the ClinicalTrials.gov API\n",
    "base_url = \"https://clinicaltrials.gov/api/query/full_studies\"\n",
    "\n",
    "# Function to get clinical trials data for a specific disease\n",
    "def get_clinical_trials(disease):\n",
    "    params = {\n",
    "        \"expr\": disease,\n",
    "        \"min_rnk\": 1,\n",
    "        \"max_rnk\": 50,  # Adjust the range based on your needs\n",
    "        \"fmt\": \"json\"\n",
    "    }\n",
    "    response = requests.get(base_url, params=params)\n",
    "    if response.status_code == 200:\n",
    "        return response.json()\n",
    "    else:\n",
    "        return None\n"
   ]
  },
  {
   "cell_type": "code",
   "execution_count": 4,
   "metadata": {},
   "outputs": [],
   "source": [
    "# Function to extract drug information from clinical trials data\n",
    "def extract_drugs(data):\n",
    "    drugs = []\n",
    "    if 'FullStudiesResponse' in data and 'FullStudies' in data['FullStudiesResponse']:\n",
    "        for study in data['FullStudiesResponse']['FullStudies']:\n",
    "            arms_interventions = study['Study']['ProtocolSection'].get('ArmsInterventionsModule', {})\n",
    "            intervention_list = arms_interventions.get('InterventionList', {})\n",
    "            interventions = intervention_list.get('Intervention', [])\n",
    "            for intervention in interventions:\n",
    "                if intervention['InterventionType'] == 'Drug':\n",
    "                    drugs.append(intervention['InterventionName'])\n",
    "    return list(set(drugs))\n"
   ]
  },
  {
   "cell_type": "code",
   "execution_count": 5,
   "metadata": {},
   "outputs": [
    {
     "name": "stdout",
     "output_type": "stream",
     "text": [
      "Results saved to clinical_trials_drugs.json\n"
     ]
    }
   ],
   "source": [
    "# Dictionary to hold the results\n",
    "results = {}\n",
    "\n",
    "# Loop through each disease and get the clinical trials data\n",
    "for disease in diseases:\n",
    "    trials_data = get_clinical_trials(disease)\n",
    "    if trials_data:\n",
    "        drugs = extract_drugs(trials_data)\n",
    "        results[disease] = drugs\n",
    "\n",
    "# Save the results to a JSON file\n",
    "output_file = \"clinical_trials_drugs.json\"\n",
    "with open(output_file, \"w\") as file:\n",
    "    json.dump(results, file, indent=4)\n",
    "\n",
    "print(f\"Results saved to {output_file}\")"
   ]
  },
  {
   "cell_type": "code",
   "execution_count": 12,
   "metadata": {},
   "outputs": [
    {
     "name": "stdout",
     "output_type": "stream",
     "text": [
      "Fetching clinical trials for Irritable Bowel Syndrome...\n",
      "Fetching clinical trials for Celiac Disease...\n",
      "Fetching clinical trials for Crohn's Disease...\n",
      "\n",
      "Irritable Bowel Syndrome:\n",
      "Placebo: 86\n",
      "placebo: 11\n",
      "Linaclotide: 8\n",
      "Rifaximin: 8\n",
      "Ibodutant: 6\n",
      "\n",
      "Celiac Disease:\n",
      "Placebo: 18\n",
      "larazotide acetate: 5\n",
      "placebo: 4\n",
      "Simvastatin: 3\n",
      "Latiglutenase: 3\n",
      "\n",
      "Crohn's Disease:\n",
      "Placebo: 72\n",
      "Ustekinumab: 18\n",
      "Infliximab: 11\n",
      "Adalimumab: 8\n",
      "CP-690,550: 7\n",
      "Top 5 drugs for each disease saved to top_5_drugs_per_disease.json\n"
     ]
    }
   ],
   "source": [
    "import requests\n",
    "import json\n",
    "from collections import Counter\n",
    "\n",
    "# Define the diseases to search for\n",
    "diseases = [\"Irritable Bowel Syndrome\", \"Celiac Disease\", \"Crohn's Disease\"]\n",
    "\n",
    "# Define the base URL for the ClinicalTrials.gov API\n",
    "base_url = \"https://clinicaltrials.gov/api/query/full_studies\"\n",
    "\n",
    "# Function to get clinical trials data for a specific disease\n",
    "def get_clinical_trials(disease, max_rank=100):\n",
    "    all_studies = []\n",
    "    current_rank = 1\n",
    "\n",
    "    while current_rank <= max_rank:\n",
    "        params = {\n",
    "            \"expr\": disease,\n",
    "            \"min_rnk\": current_rank,\n",
    "            \"max_rnk\": min(current_rank + 99, max_rank),  # Fetch in chunks of 100\n",
    "            \"fmt\": \"json\"\n",
    "        }\n",
    "        response = requests.get(base_url, params=params)\n",
    "        if response.status_code == 200:\n",
    "            data = response.json()\n",
    "            if 'FullStudiesResponse' in data and 'FullStudies' in data['FullStudiesResponse']:\n",
    "                all_studies.extend(data['FullStudiesResponse']['FullStudies'])\n",
    "            else:\n",
    "                break\n",
    "        else:\n",
    "            print(f\"Failed to fetch data for {disease} starting from rank {current_rank}\")\n",
    "            break\n",
    "        current_rank += 100\n",
    "\n",
    "    return all_studies\n",
    "\n",
    "# Function to extract drug information from clinical trials data\n",
    "def extract_drugs(studies):\n",
    "    drugs = []\n",
    "    for study in studies:\n",
    "        arms_interventions = study['Study']['ProtocolSection'].get('ArmsInterventionsModule', {})\n",
    "        intervention_list = arms_interventions.get('InterventionList', {})\n",
    "        interventions = intervention_list.get('Intervention', [])\n",
    "        for intervention in interventions:\n",
    "            if intervention['InterventionType'] == 'Drug':\n",
    "                drugs.append(intervention['InterventionName'])\n",
    "    return drugs\n",
    "\n",
    "# Dictionary to hold the results\n",
    "results = {}\n",
    "\n",
    "# Loop through each disease and get the clinical trials data\n",
    "for disease in diseases:\n",
    "    print(f\"Fetching clinical trials for {disease}...\")\n",
    "    studies = get_clinical_trials(disease, max_rank=500)  # Increase max_rank as needed\n",
    "    if studies:\n",
    "        drugs = extract_drugs(studies)\n",
    "        results[disease] = Counter(drugs)\n",
    "    else:\n",
    "        print(f\"No data found for {disease}\")\n",
    "\n",
    "# Save the results to a JSON file\n",
    "output_file = \"clinical_trials_drugs_counts.json\"\n",
    "with open(output_file, \"w\") as file:\n",
    "    json.dump(results, file, indent=4)\n",
    "\n",
    "# Display the results and get top 5 drugs for each disease\n",
    "top_5_drugs_per_disease = {}\n",
    "\n",
    "for disease, drug_counter in results.items():\n",
    "    print(f\"\\n{disease}:\")\n",
    "    top_5_drugs = drug_counter.most_common(5)\n",
    "    top_5_drugs_per_disease[disease] = top_5_drugs\n",
    "    for drug, count in top_5_drugs:\n",
    "        print(f\"{drug}: {count}\")\n",
    "\n",
    "# Save the top 5 drugs for each disease to a JSON file\n",
    "output_top_5_file = \"top_5_drugs_per_disease.json\"\n",
    "with open(output_top_5_file, \"w\") as file:\n",
    "    json.dump(top_5_drugs_per_disease, file, indent=4)\n",
    "\n",
    "print(f\"Top 5 drugs for each disease saved to {output_top_5_file}\")\n",
    "\n"
   ]
  }
 ],
 "metadata": {
  "kernelspec": {
   "display_name": "Python 3",
   "language": "python",
   "name": "python3"
  },
  "language_info": {
   "codemirror_mode": {
    "name": "ipython",
    "version": 3
   },
   "file_extension": ".py",
   "mimetype": "text/x-python",
   "name": "python",
   "nbconvert_exporter": "python",
   "pygments_lexer": "ipython3",
   "version": "3.9.6"
  }
 },
 "nbformat": 4,
 "nbformat_minor": 2
}
