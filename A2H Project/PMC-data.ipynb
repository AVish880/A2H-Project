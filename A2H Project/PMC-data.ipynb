{
 "cells": [
  {
   "cell_type": "code",
   "execution_count": 2,
   "metadata": {},
   "outputs": [
    {
     "name": "stdout",
     "output_type": "stream",
     "text": [
      "Defaulting to user installation because normal site-packages is not writeable\n",
      "Requirement already satisfied: biopython in /Users/anantvishwakarma/Library/Python/3.9/lib/python/site-packages (1.83)\n",
      "Requirement already satisfied: lxml in /Users/anantvishwakarma/Library/Python/3.9/lib/python/site-packages (5.2.2)\n",
      "Requirement already satisfied: numpy in /Users/anantvishwakarma/Library/Python/3.9/lib/python/site-packages (from biopython) (1.26.4)\n",
      "\u001b[33mWARNING: You are using pip version 21.2.4; however, version 24.0 is available.\n",
      "You should consider upgrading via the '/Library/Developer/CommandLineTools/usr/bin/python3 -m pip install --upgrade pip' command.\u001b[0m\n",
      "Note: you may need to restart the kernel to use updated packages.\n"
     ]
    }
   ],
   "source": [
    "pip install biopython lxml\n"
   ]
  },
  {
   "cell_type": "code",
   "execution_count": 3,
   "metadata": {},
   "outputs": [
    {
     "name": "stdout",
     "output_type": "stream",
     "text": [
      "Defaulting to user installation because normal site-packages is not writeable\n",
      "Requirement already satisfied: biopython in /Users/anantvishwakarma/Library/Python/3.9/lib/python/site-packages (1.83)\n",
      "Requirement already satisfied: numpy in /Users/anantvishwakarma/Library/Python/3.9/lib/python/site-packages (from biopython) (1.26.4)\n",
      "\u001b[33mWARNING: You are using pip version 21.2.4; however, version 24.0 is available.\n",
      "You should consider upgrading via the '/Library/Developer/CommandLineTools/usr/bin/python3 -m pip install --upgrade pip' command.\u001b[0m\n",
      "Note: you may need to restart the kernel to use updated packages.\n"
     ]
    }
   ],
   "source": [
    "pip install biopython\n"
   ]
  },
  {
   "cell_type": "code",
   "execution_count": 4,
   "metadata": {},
   "outputs": [],
   "source": [
    "from Bio import Entrez\n",
    "from lxml import etree\n",
    "import re\n",
    "import json\n",
    "\n",
    "def fetch_full_text(pmc_id):\n",
    "    Entrez.email = \"abvishwakarma@ucdavis.edu\"  # Set this to your actual email address\n",
    "    try:\n",
    "        handle = Entrez.efetch(db='pmc', id=pmc_id, rettype='xml', retmode='xml')\n",
    "        xml_data = handle.read().decode('utf-8')  # Decode bytes to string\n",
    "        handle.close()\n",
    "        # Check if the returned data is valid XML\n",
    "        if not xml_data.strip().startswith('<'):\n",
    "            raise ValueError(f\"Received invalid XML for PMC ID {pmc_id}\")\n",
    "        return xml_data\n",
    "    except Exception as e:\n",
    "        print(f\"Failed to fetch PMC ID {pmc_id}: {str(e)}\")\n",
    "        return None"
   ]
  },
  {
   "cell_type": "code",
   "execution_count": 5,
   "metadata": {},
   "outputs": [],
   "source": [
    "def parse_xml(xml_data):\n",
    "    if xml_data:\n",
    "        try:\n",
    "            root = etree.fromstring(xml_data)\n",
    "            full_text = ''.join(root.xpath('.//body//text()'))  # Extracts all text within the body tag\n",
    "            title = ''.join(root.xpath('//article-title//text()'))\n",
    "            abstract = ''.join(root.xpath('//abstract//text()'))\n",
    "\n",
    "            details = {\n",
    "                'Title': title,\n",
    "                'Abstract': abstract,\n",
    "                'Animal Model Details': extract_animal_model_details(full_text),\n",
    "                'Disease Model': extract_info(full_text, 'disease model'),\n",
    "                'Endpoint': extract_info(full_text, 'endpoint')\n",
    "            }\n",
    "\n",
    "            return details\n",
    "        except Exception as e:\n",
    "            print(f\"Failed to parse XML: {str(e)}\")\n",
    "            return None\n",
    "    return None"
   ]
  },
  {
   "cell_type": "code",
   "execution_count": 6,
   "metadata": {},
   "outputs": [],
   "source": [
    "def extract_animal_model_details(text):\n",
    "    details = {}\n",
    "    details['Age'] = extract_info(text, r'age(?:s)? of \\w+\\s*\\w*')\n",
    "    details['Weight'] = extract_info(text, r'weight[s]? of \\w+\\s*\\w*')\n",
    "    details['Sex'] = extract_info(text, r'(?:male|female)')\n",
    "    return details\n",
    "\n",
    "def extract_info(text, pattern):\n",
    "    # Look for phrases that likely describe the information following the keyword\n",
    "    match = re.search(rf\"{pattern}[\\s:]+([\\w\\s,]+)\\b\", text, re.IGNORECASE)\n",
    "    return match.group(1) if match else \"Not specified\""
   ]
  },
  {
   "cell_type": "code",
   "execution_count": 7,
   "metadata": {},
   "outputs": [],
   "source": [
    "from Bio import Entrez\n",
    "import json\n",
    "\n",
    "def search_pubmed(diseases, keywords):\n",
    "    Entrez.email = \"abvishwakarma@ucdavis.edu\"  # Always set this to your email address\n",
    "    base_db = 'pubmed'\n",
    "    results = []\n",
    "\n",
    "    for disease in diseases:\n",
    "        for keyword in keywords:\n",
    "            query = f'({disease}) AND {keyword}[Title/Abstract]'# AND \"animal model\"[Title/Abstract]'\n",
    "            handle = Entrez.esearch(db=base_db, term=query, retmax=50, usehistory='y')\n",
    "            record = Entrez.read(handle)\n",
    "            handle.close()\n",
    "            id_list = record['IdList']\n",
    "\n",
    "            if id_list:  # Check if there are IDs before proceeding\n",
    "                webenv = record['WebEnv']\n",
    "                query_key = record['QueryKey']\n",
    "                fetch_handle = Entrez.efetch(db=base_db, rettype='xml', retmode='xml', webenv=webenv, query_key=query_key)\n",
    "                articles = Entrez.read(fetch_handle)\n",
    "                fetch_handle.close()\n",
    "                results.extend(extract_pmc_ids(articles))\n",
    "            else:\n",
    "                print(f\"No results found for query: {query}\")\n",
    "\n",
    "    return results\n",
    "\n",
    "def extract_pmc_ids(articles):\n",
    "    pmc_ids = []\n",
    "    for article in articles['PubmedArticle']:\n",
    "        article_ids = article['PubmedData']['ArticleIdList']\n",
    "        for aid in article_ids:\n",
    "            if aid.attributes.get('IdType') == 'pmc':\n",
    "                pmc_ids.append(str(aid))\n",
    "    return pmc_ids"
   ]
  },
  {
   "cell_type": "code",
   "execution_count": 8,
   "metadata": {},
   "outputs": [
    {
     "name": "stdout",
     "output_type": "stream",
     "text": [
      "Failed to fetch PMC ID PMC5407793: HTTP Error 400: Bad Request\n",
      "Failed to fetch PMC ID PMC10994796: HTTP Error 400: Bad Request\n",
      "Failed to fetch PMC ID PMC8413334: HTTP Error 400: Bad Request\n",
      "Failed to fetch PMC ID PMC6767978: HTTP Error 400: Bad Request\n",
      "Failed to fetch PMC ID PMC6718040: HTTP Error 400: Bad Request\n",
      "Failed to fetch PMC ID PMC6594136: HTTP Error 400: Bad Request\n",
      "Failed to fetch PMC ID PMC6135788: HTTP Error 400: Bad Request\n",
      "Failed to fetch PMC ID PMC5564554: HTTP Error 400: Bad Request\n",
      "Failed to fetch PMC ID PMC5987935: HTTP Error 400: Bad Request\n",
      "Failed to fetch PMC ID PMC2785428: HTTP Error 400: Bad Request\n",
      "Failed to fetch PMC ID PMC6668454: HTTP Error 400: Bad Request\n",
      "Failed to fetch PMC ID PMC10186607: HTTP Error 400: Bad Request\n",
      "Failed to fetch PMC ID PMC8803069: HTTP Error 400: Bad Request\n",
      "Failed to fetch PMC ID PMC8017215: HTTP Error 400: Bad Request\n",
      "Failed to fetch PMC ID PMC7566649: HTTP Error 400: Bad Request\n",
      "Failed to fetch PMC ID PMC7069029: IncompleteRead(171523 bytes read)\n",
      "Failed to fetch PMC ID PMC6789150: HTTP Error 400: Bad Request\n",
      "Failed to fetch PMC ID PMC6762198: HTTP Error 400: Bad Request\n",
      "Failed to fetch PMC ID PMC6482348: HTTP Error 400: Bad Request\n",
      "Failed to fetch PMC ID PMC6381131: HTTP Error 400: Bad Request\n",
      "Failed to fetch PMC ID PMC6240124: HTTP Error 400: Bad Request\n",
      "Failed to fetch PMC ID PMC6013570: HTTP Error 400: Bad Request\n",
      "Failed to fetch PMC ID PMC4707111: HTTP Error 400: Bad Request\n",
      "Failed to fetch PMC ID PMC10095084: HTTP Error 400: Bad Request\n",
      "Failed to fetch PMC ID PMC7554957: IncompleteRead(312615 bytes read)\n",
      "Failed to fetch PMC ID PMC6939692: HTTP Error 400: Bad Request\n",
      "Failed to fetch PMC ID PMC6208440: HTTP Error 400: Bad Request\n",
      "Failed to fetch PMC ID PMC4231824: HTTP Error 400: Bad Request\n",
      "Failed to fetch PMC ID PMC11126595: HTTP Error 400: Bad Request\n",
      "Failed to fetch PMC ID PMC9698010: HTTP Error 400: Bad Request\n",
      "Failed to fetch PMC ID PMC6880128: HTTP Error 400: Bad Request\n",
      "Failed to fetch PMC ID PMC5985498: HTTP Error 400: Bad Request\n",
      "Failed to fetch PMC ID PMC10857303: HTTP Error 400: Bad Request\n",
      "Failed to fetch PMC ID PMC1411588: HTTP Error 400: Bad Request\n",
      "Failed to fetch PMC ID PMC10798370: HTTP Error 400: Bad Request\n",
      "Failed to fetch PMC ID PMC9995752: HTTP Error 400: Bad Request\n",
      "Failed to fetch PMC ID PMC9113101: HTTP Error 400: Bad Request\n",
      "Failed to fetch PMC ID PMC8226558: HTTP Error 400: Bad Request\n",
      "Failed to fetch PMC ID PMC8037853: HTTP Error 400: Bad Request\n",
      "Failed to fetch PMC ID PMC8004028: HTTP Error 400: Bad Request\n",
      "Failed to fetch PMC ID PMC7050505: HTTP Error 400: Bad Request\n",
      "Failed to fetch PMC ID PMC6984609: HTTP Error 400: Bad Request\n",
      "Failed to fetch PMC ID PMC6974321: HTTP Error 400: Bad Request\n",
      "Failed to fetch PMC ID PMC6237229: HTTP Error 400: Bad Request\n",
      "Failed to fetch PMC ID PMC6176899: HTTP Error 400: Bad Request\n",
      "Failed to fetch PMC ID PMC5447514: HTTP Error 400: Bad Request\n",
      "Failed to fetch PMC ID PMC4636794: HTTP Error 400: Bad Request\n"
     ]
    },
    {
     "ename": "KeyboardInterrupt",
     "evalue": "",
     "output_type": "error",
     "traceback": [
      "\u001b[0;31m---------------------------------------------------------------------------\u001b[0m",
      "\u001b[0;31mKeyboardInterrupt\u001b[0m                         Traceback (most recent call last)",
      "Cell \u001b[0;32mIn[8], line 10\u001b[0m\n\u001b[1;32m      8\u001b[0m \u001b[38;5;28;01mwith\u001b[39;00m \u001b[38;5;28mopen\u001b[39m(\u001b[38;5;124m'\u001b[39m\u001b[38;5;124mpmc_results.json\u001b[39m\u001b[38;5;124m'\u001b[39m, \u001b[38;5;124m'\u001b[39m\u001b[38;5;124ma\u001b[39m\u001b[38;5;124m'\u001b[39m) \u001b[38;5;28;01mas\u001b[39;00m f:\n\u001b[1;32m      9\u001b[0m         \u001b[38;5;28;01mfor\u001b[39;00m pmc_id \u001b[38;5;129;01min\u001b[39;00m pmc_ids:\n\u001b[0;32m---> 10\u001b[0m             xml_data \u001b[38;5;241m=\u001b[39m \u001b[43mfetch_full_text\u001b[49m\u001b[43m(\u001b[49m\u001b[43mpmc_id\u001b[49m\u001b[43m)\u001b[49m\n\u001b[1;32m     11\u001b[0m             \u001b[38;5;28;01mif\u001b[39;00m xml_data:\n\u001b[1;32m     12\u001b[0m                 parsed_details \u001b[38;5;241m=\u001b[39m parse_xml(xml_data)\n",
      "Cell \u001b[0;32mIn[4], line 9\u001b[0m, in \u001b[0;36mfetch_full_text\u001b[0;34m(pmc_id)\u001b[0m\n\u001b[1;32m      7\u001b[0m Entrez\u001b[38;5;241m.\u001b[39memail \u001b[38;5;241m=\u001b[39m \u001b[38;5;124m\"\u001b[39m\u001b[38;5;124mabvishwakarma@ucdavis.edu\u001b[39m\u001b[38;5;124m\"\u001b[39m  \u001b[38;5;66;03m# Set this to your actual email address\u001b[39;00m\n\u001b[1;32m      8\u001b[0m \u001b[38;5;28;01mtry\u001b[39;00m:\n\u001b[0;32m----> 9\u001b[0m     handle \u001b[38;5;241m=\u001b[39m \u001b[43mEntrez\u001b[49m\u001b[38;5;241;43m.\u001b[39;49m\u001b[43mefetch\u001b[49m\u001b[43m(\u001b[49m\u001b[43mdb\u001b[49m\u001b[38;5;241;43m=\u001b[39;49m\u001b[38;5;124;43m'\u001b[39;49m\u001b[38;5;124;43mpmc\u001b[39;49m\u001b[38;5;124;43m'\u001b[39;49m\u001b[43m,\u001b[49m\u001b[43m \u001b[49m\u001b[38;5;28;43mid\u001b[39;49m\u001b[38;5;241;43m=\u001b[39;49m\u001b[43mpmc_id\u001b[49m\u001b[43m,\u001b[49m\u001b[43m \u001b[49m\u001b[43mrettype\u001b[49m\u001b[38;5;241;43m=\u001b[39;49m\u001b[38;5;124;43m'\u001b[39;49m\u001b[38;5;124;43mxml\u001b[39;49m\u001b[38;5;124;43m'\u001b[39;49m\u001b[43m,\u001b[49m\u001b[43m \u001b[49m\u001b[43mretmode\u001b[49m\u001b[38;5;241;43m=\u001b[39;49m\u001b[38;5;124;43m'\u001b[39;49m\u001b[38;5;124;43mxml\u001b[39;49m\u001b[38;5;124;43m'\u001b[39;49m\u001b[43m)\u001b[49m\n\u001b[1;32m     10\u001b[0m     xml_data \u001b[38;5;241m=\u001b[39m handle\u001b[38;5;241m.\u001b[39mread()\u001b[38;5;241m.\u001b[39mdecode(\u001b[38;5;124m'\u001b[39m\u001b[38;5;124mutf-8\u001b[39m\u001b[38;5;124m'\u001b[39m)  \u001b[38;5;66;03m# Decode bytes to string\u001b[39;00m\n\u001b[1;32m     11\u001b[0m     handle\u001b[38;5;241m.\u001b[39mclose()\n",
      "File \u001b[0;32m~/Library/Python/3.9/lib/python/site-packages/Bio/Entrez/__init__.py:197\u001b[0m, in \u001b[0;36mefetch\u001b[0;34m(db, **keywords)\u001b[0m\n\u001b[1;32m    195\u001b[0m variables\u001b[38;5;241m.\u001b[39mupdate(keywords)\n\u001b[1;32m    196\u001b[0m request \u001b[38;5;241m=\u001b[39m _build_request(cgi, variables)\n\u001b[0;32m--> 197\u001b[0m \u001b[38;5;28;01mreturn\u001b[39;00m \u001b[43m_open\u001b[49m\u001b[43m(\u001b[49m\u001b[43mrequest\u001b[49m\u001b[43m)\u001b[49m\n",
      "File \u001b[0;32m~/Library/Python/3.9/lib/python/site-packages/Bio/Entrez/__init__.py:623\u001b[0m, in \u001b[0;36m_open\u001b[0;34m(request)\u001b[0m\n\u001b[1;32m    621\u001b[0m \u001b[38;5;28;01mfor\u001b[39;00m i \u001b[38;5;129;01min\u001b[39;00m \u001b[38;5;28mrange\u001b[39m(max_tries):\n\u001b[1;32m    622\u001b[0m     \u001b[38;5;28;01mtry\u001b[39;00m:\n\u001b[0;32m--> 623\u001b[0m         handle \u001b[38;5;241m=\u001b[39m \u001b[43murlopen\u001b[49m\u001b[43m(\u001b[49m\u001b[43mrequest\u001b[49m\u001b[43m)\u001b[49m\n\u001b[1;32m    624\u001b[0m     \u001b[38;5;28;01mexcept\u001b[39;00m HTTPError \u001b[38;5;28;01mas\u001b[39;00m exception:\n\u001b[1;32m    625\u001b[0m         \u001b[38;5;66;03m# Reraise if the final try fails\u001b[39;00m\n\u001b[1;32m    626\u001b[0m         \u001b[38;5;28;01mif\u001b[39;00m i \u001b[38;5;241m>\u001b[39m\u001b[38;5;241m=\u001b[39m max_tries \u001b[38;5;241m-\u001b[39m \u001b[38;5;241m1\u001b[39m:\n",
      "File \u001b[0;32m/Library/Developer/CommandLineTools/Library/Frameworks/Python3.framework/Versions/3.9/lib/python3.9/urllib/request.py:214\u001b[0m, in \u001b[0;36murlopen\u001b[0;34m(url, data, timeout, cafile, capath, cadefault, context)\u001b[0m\n\u001b[1;32m    212\u001b[0m \u001b[38;5;28;01melse\u001b[39;00m:\n\u001b[1;32m    213\u001b[0m     opener \u001b[38;5;241m=\u001b[39m _opener\n\u001b[0;32m--> 214\u001b[0m \u001b[38;5;28;01mreturn\u001b[39;00m \u001b[43mopener\u001b[49m\u001b[38;5;241;43m.\u001b[39;49m\u001b[43mopen\u001b[49m\u001b[43m(\u001b[49m\u001b[43murl\u001b[49m\u001b[43m,\u001b[49m\u001b[43m \u001b[49m\u001b[43mdata\u001b[49m\u001b[43m,\u001b[49m\u001b[43m \u001b[49m\u001b[43mtimeout\u001b[49m\u001b[43m)\u001b[49m\n",
      "File \u001b[0;32m/Library/Developer/CommandLineTools/Library/Frameworks/Python3.framework/Versions/3.9/lib/python3.9/urllib/request.py:517\u001b[0m, in \u001b[0;36mOpenerDirector.open\u001b[0;34m(self, fullurl, data, timeout)\u001b[0m\n\u001b[1;32m    514\u001b[0m     req \u001b[38;5;241m=\u001b[39m meth(req)\n\u001b[1;32m    516\u001b[0m sys\u001b[38;5;241m.\u001b[39maudit(\u001b[38;5;124m'\u001b[39m\u001b[38;5;124murllib.Request\u001b[39m\u001b[38;5;124m'\u001b[39m, req\u001b[38;5;241m.\u001b[39mfull_url, req\u001b[38;5;241m.\u001b[39mdata, req\u001b[38;5;241m.\u001b[39mheaders, req\u001b[38;5;241m.\u001b[39mget_method())\n\u001b[0;32m--> 517\u001b[0m response \u001b[38;5;241m=\u001b[39m \u001b[38;5;28;43mself\u001b[39;49m\u001b[38;5;241;43m.\u001b[39;49m\u001b[43m_open\u001b[49m\u001b[43m(\u001b[49m\u001b[43mreq\u001b[49m\u001b[43m,\u001b[49m\u001b[43m \u001b[49m\u001b[43mdata\u001b[49m\u001b[43m)\u001b[49m\n\u001b[1;32m    519\u001b[0m \u001b[38;5;66;03m# post-process response\u001b[39;00m\n\u001b[1;32m    520\u001b[0m meth_name \u001b[38;5;241m=\u001b[39m protocol\u001b[38;5;241m+\u001b[39m\u001b[38;5;124m\"\u001b[39m\u001b[38;5;124m_response\u001b[39m\u001b[38;5;124m\"\u001b[39m\n",
      "File \u001b[0;32m/Library/Developer/CommandLineTools/Library/Frameworks/Python3.framework/Versions/3.9/lib/python3.9/urllib/request.py:534\u001b[0m, in \u001b[0;36mOpenerDirector._open\u001b[0;34m(self, req, data)\u001b[0m\n\u001b[1;32m    531\u001b[0m     \u001b[38;5;28;01mreturn\u001b[39;00m result\n\u001b[1;32m    533\u001b[0m protocol \u001b[38;5;241m=\u001b[39m req\u001b[38;5;241m.\u001b[39mtype\n\u001b[0;32m--> 534\u001b[0m result \u001b[38;5;241m=\u001b[39m \u001b[38;5;28;43mself\u001b[39;49m\u001b[38;5;241;43m.\u001b[39;49m\u001b[43m_call_chain\u001b[49m\u001b[43m(\u001b[49m\u001b[38;5;28;43mself\u001b[39;49m\u001b[38;5;241;43m.\u001b[39;49m\u001b[43mhandle_open\u001b[49m\u001b[43m,\u001b[49m\u001b[43m \u001b[49m\u001b[43mprotocol\u001b[49m\u001b[43m,\u001b[49m\u001b[43m \u001b[49m\u001b[43mprotocol\u001b[49m\u001b[43m \u001b[49m\u001b[38;5;241;43m+\u001b[39;49m\n\u001b[1;32m    535\u001b[0m \u001b[43m                          \u001b[49m\u001b[38;5;124;43m'\u001b[39;49m\u001b[38;5;124;43m_open\u001b[39;49m\u001b[38;5;124;43m'\u001b[39;49m\u001b[43m,\u001b[49m\u001b[43m \u001b[49m\u001b[43mreq\u001b[49m\u001b[43m)\u001b[49m\n\u001b[1;32m    536\u001b[0m \u001b[38;5;28;01mif\u001b[39;00m result:\n\u001b[1;32m    537\u001b[0m     \u001b[38;5;28;01mreturn\u001b[39;00m result\n",
      "File \u001b[0;32m/Library/Developer/CommandLineTools/Library/Frameworks/Python3.framework/Versions/3.9/lib/python3.9/urllib/request.py:494\u001b[0m, in \u001b[0;36mOpenerDirector._call_chain\u001b[0;34m(self, chain, kind, meth_name, *args)\u001b[0m\n\u001b[1;32m    492\u001b[0m \u001b[38;5;28;01mfor\u001b[39;00m handler \u001b[38;5;129;01min\u001b[39;00m handlers:\n\u001b[1;32m    493\u001b[0m     func \u001b[38;5;241m=\u001b[39m \u001b[38;5;28mgetattr\u001b[39m(handler, meth_name)\n\u001b[0;32m--> 494\u001b[0m     result \u001b[38;5;241m=\u001b[39m \u001b[43mfunc\u001b[49m\u001b[43m(\u001b[49m\u001b[38;5;241;43m*\u001b[39;49m\u001b[43margs\u001b[49m\u001b[43m)\u001b[49m\n\u001b[1;32m    495\u001b[0m     \u001b[38;5;28;01mif\u001b[39;00m result \u001b[38;5;129;01mis\u001b[39;00m \u001b[38;5;129;01mnot\u001b[39;00m \u001b[38;5;28;01mNone\u001b[39;00m:\n\u001b[1;32m    496\u001b[0m         \u001b[38;5;28;01mreturn\u001b[39;00m result\n",
      "File \u001b[0;32m/Library/Developer/CommandLineTools/Library/Frameworks/Python3.framework/Versions/3.9/lib/python3.9/urllib/request.py:1389\u001b[0m, in \u001b[0;36mHTTPSHandler.https_open\u001b[0;34m(self, req)\u001b[0m\n\u001b[1;32m   1388\u001b[0m \u001b[38;5;28;01mdef\u001b[39;00m \u001b[38;5;21mhttps_open\u001b[39m(\u001b[38;5;28mself\u001b[39m, req):\n\u001b[0;32m-> 1389\u001b[0m     \u001b[38;5;28;01mreturn\u001b[39;00m \u001b[38;5;28;43mself\u001b[39;49m\u001b[38;5;241;43m.\u001b[39;49m\u001b[43mdo_open\u001b[49m\u001b[43m(\u001b[49m\u001b[43mhttp\u001b[49m\u001b[38;5;241;43m.\u001b[39;49m\u001b[43mclient\u001b[49m\u001b[38;5;241;43m.\u001b[39;49m\u001b[43mHTTPSConnection\u001b[49m\u001b[43m,\u001b[49m\u001b[43m \u001b[49m\u001b[43mreq\u001b[49m\u001b[43m,\u001b[49m\n\u001b[1;32m   1390\u001b[0m \u001b[43m        \u001b[49m\u001b[43mcontext\u001b[49m\u001b[38;5;241;43m=\u001b[39;49m\u001b[38;5;28;43mself\u001b[39;49m\u001b[38;5;241;43m.\u001b[39;49m\u001b[43m_context\u001b[49m\u001b[43m,\u001b[49m\u001b[43m \u001b[49m\u001b[43mcheck_hostname\u001b[49m\u001b[38;5;241;43m=\u001b[39;49m\u001b[38;5;28;43mself\u001b[39;49m\u001b[38;5;241;43m.\u001b[39;49m\u001b[43m_check_hostname\u001b[49m\u001b[43m)\u001b[49m\n",
      "File \u001b[0;32m/Library/Developer/CommandLineTools/Library/Frameworks/Python3.framework/Versions/3.9/lib/python3.9/urllib/request.py:1350\u001b[0m, in \u001b[0;36mAbstractHTTPHandler.do_open\u001b[0;34m(self, http_class, req, **http_conn_args)\u001b[0m\n\u001b[1;32m   1348\u001b[0m     \u001b[38;5;28;01mexcept\u001b[39;00m \u001b[38;5;167;01mOSError\u001b[39;00m \u001b[38;5;28;01mas\u001b[39;00m err: \u001b[38;5;66;03m# timeout error\u001b[39;00m\n\u001b[1;32m   1349\u001b[0m         \u001b[38;5;28;01mraise\u001b[39;00m URLError(err)\n\u001b[0;32m-> 1350\u001b[0m     r \u001b[38;5;241m=\u001b[39m \u001b[43mh\u001b[49m\u001b[38;5;241;43m.\u001b[39;49m\u001b[43mgetresponse\u001b[49m\u001b[43m(\u001b[49m\u001b[43m)\u001b[49m\n\u001b[1;32m   1351\u001b[0m \u001b[38;5;28;01mexcept\u001b[39;00m:\n\u001b[1;32m   1352\u001b[0m     h\u001b[38;5;241m.\u001b[39mclose()\n",
      "File \u001b[0;32m/Library/Developer/CommandLineTools/Library/Frameworks/Python3.framework/Versions/3.9/lib/python3.9/http/client.py:1349\u001b[0m, in \u001b[0;36mHTTPConnection.getresponse\u001b[0;34m(self)\u001b[0m\n\u001b[1;32m   1347\u001b[0m \u001b[38;5;28;01mtry\u001b[39;00m:\n\u001b[1;32m   1348\u001b[0m     \u001b[38;5;28;01mtry\u001b[39;00m:\n\u001b[0;32m-> 1349\u001b[0m         \u001b[43mresponse\u001b[49m\u001b[38;5;241;43m.\u001b[39;49m\u001b[43mbegin\u001b[49m\u001b[43m(\u001b[49m\u001b[43m)\u001b[49m\n\u001b[1;32m   1350\u001b[0m     \u001b[38;5;28;01mexcept\u001b[39;00m \u001b[38;5;167;01mConnectionError\u001b[39;00m:\n\u001b[1;32m   1351\u001b[0m         \u001b[38;5;28mself\u001b[39m\u001b[38;5;241m.\u001b[39mclose()\n",
      "File \u001b[0;32m/Library/Developer/CommandLineTools/Library/Frameworks/Python3.framework/Versions/3.9/lib/python3.9/http/client.py:316\u001b[0m, in \u001b[0;36mHTTPResponse.begin\u001b[0;34m(self)\u001b[0m\n\u001b[1;32m    314\u001b[0m \u001b[38;5;66;03m# read until we get a non-100 response\u001b[39;00m\n\u001b[1;32m    315\u001b[0m \u001b[38;5;28;01mwhile\u001b[39;00m \u001b[38;5;28;01mTrue\u001b[39;00m:\n\u001b[0;32m--> 316\u001b[0m     version, status, reason \u001b[38;5;241m=\u001b[39m \u001b[38;5;28;43mself\u001b[39;49m\u001b[38;5;241;43m.\u001b[39;49m\u001b[43m_read_status\u001b[49m\u001b[43m(\u001b[49m\u001b[43m)\u001b[49m\n\u001b[1;32m    317\u001b[0m     \u001b[38;5;28;01mif\u001b[39;00m status \u001b[38;5;241m!=\u001b[39m CONTINUE:\n\u001b[1;32m    318\u001b[0m         \u001b[38;5;28;01mbreak\u001b[39;00m\n",
      "File \u001b[0;32m/Library/Developer/CommandLineTools/Library/Frameworks/Python3.framework/Versions/3.9/lib/python3.9/http/client.py:277\u001b[0m, in \u001b[0;36mHTTPResponse._read_status\u001b[0;34m(self)\u001b[0m\n\u001b[1;32m    276\u001b[0m \u001b[38;5;28;01mdef\u001b[39;00m \u001b[38;5;21m_read_status\u001b[39m(\u001b[38;5;28mself\u001b[39m):\n\u001b[0;32m--> 277\u001b[0m     line \u001b[38;5;241m=\u001b[39m \u001b[38;5;28mstr\u001b[39m(\u001b[38;5;28;43mself\u001b[39;49m\u001b[38;5;241;43m.\u001b[39;49m\u001b[43mfp\u001b[49m\u001b[38;5;241;43m.\u001b[39;49m\u001b[43mreadline\u001b[49m\u001b[43m(\u001b[49m\u001b[43m_MAXLINE\u001b[49m\u001b[43m \u001b[49m\u001b[38;5;241;43m+\u001b[39;49m\u001b[43m \u001b[49m\u001b[38;5;241;43m1\u001b[39;49m\u001b[43m)\u001b[49m, \u001b[38;5;124m\"\u001b[39m\u001b[38;5;124miso-8859-1\u001b[39m\u001b[38;5;124m\"\u001b[39m)\n\u001b[1;32m    278\u001b[0m     \u001b[38;5;28;01mif\u001b[39;00m \u001b[38;5;28mlen\u001b[39m(line) \u001b[38;5;241m>\u001b[39m _MAXLINE:\n\u001b[1;32m    279\u001b[0m         \u001b[38;5;28;01mraise\u001b[39;00m LineTooLong(\u001b[38;5;124m\"\u001b[39m\u001b[38;5;124mstatus line\u001b[39m\u001b[38;5;124m\"\u001b[39m)\n",
      "File \u001b[0;32m/Library/Developer/CommandLineTools/Library/Frameworks/Python3.framework/Versions/3.9/lib/python3.9/socket.py:704\u001b[0m, in \u001b[0;36mSocketIO.readinto\u001b[0;34m(self, b)\u001b[0m\n\u001b[1;32m    702\u001b[0m \u001b[38;5;28;01mwhile\u001b[39;00m \u001b[38;5;28;01mTrue\u001b[39;00m:\n\u001b[1;32m    703\u001b[0m     \u001b[38;5;28;01mtry\u001b[39;00m:\n\u001b[0;32m--> 704\u001b[0m         \u001b[38;5;28;01mreturn\u001b[39;00m \u001b[38;5;28;43mself\u001b[39;49m\u001b[38;5;241;43m.\u001b[39;49m\u001b[43m_sock\u001b[49m\u001b[38;5;241;43m.\u001b[39;49m\u001b[43mrecv_into\u001b[49m\u001b[43m(\u001b[49m\u001b[43mb\u001b[49m\u001b[43m)\u001b[49m\n\u001b[1;32m    705\u001b[0m     \u001b[38;5;28;01mexcept\u001b[39;00m timeout:\n\u001b[1;32m    706\u001b[0m         \u001b[38;5;28mself\u001b[39m\u001b[38;5;241m.\u001b[39m_timeout_occurred \u001b[38;5;241m=\u001b[39m \u001b[38;5;28;01mTrue\u001b[39;00m\n",
      "File \u001b[0;32m/Library/Developer/CommandLineTools/Library/Frameworks/Python3.framework/Versions/3.9/lib/python3.9/ssl.py:1241\u001b[0m, in \u001b[0;36mSSLSocket.recv_into\u001b[0;34m(self, buffer, nbytes, flags)\u001b[0m\n\u001b[1;32m   1237\u001b[0m     \u001b[38;5;28;01mif\u001b[39;00m flags \u001b[38;5;241m!=\u001b[39m \u001b[38;5;241m0\u001b[39m:\n\u001b[1;32m   1238\u001b[0m         \u001b[38;5;28;01mraise\u001b[39;00m \u001b[38;5;167;01mValueError\u001b[39;00m(\n\u001b[1;32m   1239\u001b[0m           \u001b[38;5;124m\"\u001b[39m\u001b[38;5;124mnon-zero flags not allowed in calls to recv_into() on \u001b[39m\u001b[38;5;132;01m%s\u001b[39;00m\u001b[38;5;124m\"\u001b[39m \u001b[38;5;241m%\u001b[39m\n\u001b[1;32m   1240\u001b[0m           \u001b[38;5;28mself\u001b[39m\u001b[38;5;241m.\u001b[39m\u001b[38;5;18m__class__\u001b[39m)\n\u001b[0;32m-> 1241\u001b[0m     \u001b[38;5;28;01mreturn\u001b[39;00m \u001b[38;5;28;43mself\u001b[39;49m\u001b[38;5;241;43m.\u001b[39;49m\u001b[43mread\u001b[49m\u001b[43m(\u001b[49m\u001b[43mnbytes\u001b[49m\u001b[43m,\u001b[49m\u001b[43m \u001b[49m\u001b[43mbuffer\u001b[49m\u001b[43m)\u001b[49m\n\u001b[1;32m   1242\u001b[0m \u001b[38;5;28;01melse\u001b[39;00m:\n\u001b[1;32m   1243\u001b[0m     \u001b[38;5;28;01mreturn\u001b[39;00m \u001b[38;5;28msuper\u001b[39m()\u001b[38;5;241m.\u001b[39mrecv_into(buffer, nbytes, flags)\n",
      "File \u001b[0;32m/Library/Developer/CommandLineTools/Library/Frameworks/Python3.framework/Versions/3.9/lib/python3.9/ssl.py:1099\u001b[0m, in \u001b[0;36mSSLSocket.read\u001b[0;34m(self, len, buffer)\u001b[0m\n\u001b[1;32m   1097\u001b[0m \u001b[38;5;28;01mtry\u001b[39;00m:\n\u001b[1;32m   1098\u001b[0m     \u001b[38;5;28;01mif\u001b[39;00m buffer \u001b[38;5;129;01mis\u001b[39;00m \u001b[38;5;129;01mnot\u001b[39;00m \u001b[38;5;28;01mNone\u001b[39;00m:\n\u001b[0;32m-> 1099\u001b[0m         \u001b[38;5;28;01mreturn\u001b[39;00m \u001b[38;5;28;43mself\u001b[39;49m\u001b[38;5;241;43m.\u001b[39;49m\u001b[43m_sslobj\u001b[49m\u001b[38;5;241;43m.\u001b[39;49m\u001b[43mread\u001b[49m\u001b[43m(\u001b[49m\u001b[38;5;28;43mlen\u001b[39;49m\u001b[43m,\u001b[49m\u001b[43m \u001b[49m\u001b[43mbuffer\u001b[49m\u001b[43m)\u001b[49m\n\u001b[1;32m   1100\u001b[0m     \u001b[38;5;28;01melse\u001b[39;00m:\n\u001b[1;32m   1101\u001b[0m         \u001b[38;5;28;01mreturn\u001b[39;00m \u001b[38;5;28mself\u001b[39m\u001b[38;5;241m.\u001b[39m_sslobj\u001b[38;5;241m.\u001b[39mread(\u001b[38;5;28mlen\u001b[39m)\n",
      "\u001b[0;31mKeyboardInterrupt\u001b[0m: "
     ]
    }
   ],
   "source": [
    "#def main():\n",
    "diseases = ['IBS', \"Crohn's Disease\", 'Celiac Disease']\n",
    "keywords = ['preclinical', 'rat', 'rodent', 'mice', 'animal', 'pig', 'hamster']\n",
    "\n",
    "pmc_ids = search_pubmed(diseases, keywords) # Example PMC IDs, replace with actual IDs\n",
    "all_details = []\n",
    "\n",
    "with open('pmc_results.json', 'a') as f:\n",
    "        for pmc_id in pmc_ids:\n",
    "            xml_data = fetch_full_text(pmc_id)\n",
    "            if xml_data:\n",
    "                parsed_details = parse_xml(xml_data)\n",
    "                if parsed_details:\n",
    "                    parsed_details['PMC ID'] = pmc_id  # Include the PMC ID in the details for reference\n",
    "                    # Write each parsed detail to the JSON file\n",
    "                    json.dump(parsed_details, f, indent=4)\n",
    "                    f.write('\\n')  # Add a newline for readability\n",
    "\n",
    "print(\"Data has been written to pmc_results.json\")\n",
    "\n",
    "#if __name__ == '__main__':\n",
    " #   main()\n"
   ]
  },
  {
   "cell_type": "code",
   "execution_count": 8,
   "metadata": {},
   "outputs": [
    {
     "name": "stdout",
     "output_type": "stream",
     "text": [
      "PMC IDs have been written to pmc_ids.json\n"
     ]
    }
   ],
   "source": [
    "# Function to extract PMC IDs from the fetched articles\n",
    "def extract_pmc_ids(articles):\n",
    "    pmc_ids = []\n",
    "    for article in articles.get('PubmedArticle', []):\n",
    "        article_ids = article['PubmedData']['ArticleIdList']\n",
    "        for aid in article_ids:\n",
    "            if aid.attributes.get('IdType') == 'pmc':\n",
    "                pmc_ids.append(str(aid))\n",
    "    return pmc_ids\n",
    "\n",
    "# Main function to search and save PMC IDs to a JSON file\n",
    "diseases = ['IBS', \"Crohn's Disease\", 'Celiac Disease']\n",
    "keywords = ['preclinical', 'rat', 'rodent', 'mice', 'animal', 'pig', 'hamster']\n",
    "\n",
    "pmc_ids = search_pubmed(diseases, keywords)\n",
    "\n",
    "# Save the list of PMC IDs to a JSON file\n",
    "with open('pmc_ids.json', 'w') as f:\n",
    "    json.dump(pmc_ids, f, indent=4)\n",
    "\n",
    "print(\"PMC IDs have been written to pmc_ids.json\")\n"
   ]
  },
  {
   "cell_type": "code",
   "execution_count": 9,
   "metadata": {},
   "outputs": [
    {
     "name": "stdout",
     "output_type": "stream",
     "text": [
      "Defaulting to user installation because normal site-packages is not writeable\n",
      "Requirement already satisfied: requests in /Users/anantvishwakarma/Library/Python/3.9/lib/python/site-packages (2.32.0)\n",
      "Requirement already satisfied: charset-normalizer<4,>=2 in /Users/anantvishwakarma/Library/Python/3.9/lib/python/site-packages (from requests) (3.3.2)\n",
      "Requirement already satisfied: certifi>=2017.4.17 in /Users/anantvishwakarma/Library/Python/3.9/lib/python/site-packages (from requests) (2024.2.2)\n",
      "Requirement already satisfied: urllib3<3,>=1.21.1 in /Users/anantvishwakarma/Library/Python/3.9/lib/python/site-packages (from requests) (2.2.1)\n",
      "Requirement already satisfied: idna<4,>=2.5 in /Users/anantvishwakarma/Library/Python/3.9/lib/python/site-packages (from requests) (3.7)\n",
      "\u001b[33mWARNING: You are using pip version 21.2.4; however, version 24.0 is available.\n",
      "You should consider upgrading via the '/Library/Developer/CommandLineTools/usr/bin/python3 -m pip install --upgrade pip' command.\u001b[0m\n",
      "Note: you may need to restart the kernel to use updated packages.\n"
     ]
    }
   ],
   "source": [
    "pip install requests\n"
   ]
  },
  {
   "cell_type": "code",
   "execution_count": 12,
   "metadata": {},
   "outputs": [
    {
     "name": "stdout",
     "output_type": "stream",
     "text": [
      "Failed to download PMC11119472.xml: 550 /pub/pmc/oa_xml: No such file or directory\n",
      "Failed to download PMC11112549.xml: 550 /pub/pmc/oa_xml: No such file or directory\n",
      "Failed to download PMC11056916.xml: 550 /pub/pmc/oa_xml: No such file or directory\n",
      "Failed to download PMC10769202.xml: 550 /pub/pmc/oa_xml: No such file or directory\n",
      "Failed to download PMC10603947.xml: 550 /pub/pmc/oa_xml: No such file or directory\n",
      "Failed to download PMC10726404.xml: 550 /pub/pmc/oa_xml: No such file or directory\n",
      "Failed to download PMC10453983.xml: 550 /pub/pmc/oa_xml: No such file or directory\n",
      "Failed to download PMC10318922.xml: 550 /pub/pmc/oa_xml: No such file or directory\n",
      "Failed to download PMC10221257.xml: 550 /pub/pmc/oa_xml: No such file or directory\n",
      "Failed to download PMC10111265.xml: 550 /pub/pmc/oa_xml: No such file or directory\n",
      "Failed to download PMC9995971.xml: 550 /pub/pmc/oa_xml: No such file or directory\n",
      "Failed to download PMC9977891.xml: 550 /pub/pmc/oa_xml: No such file or directory\n",
      "Failed to download PMC9936517.xml: 550 /pub/pmc/oa_xml: No such file or directory\n",
      "Failed to download PMC9897793.xml: 550 /pub/pmc/oa_xml: No such file or directory\n",
      "Failed to download PMC9817828.xml: 550 /pub/pmc/oa_xml: No such file or directory\n",
      "Failed to download PMC9787120.xml: 550 /pub/pmc/oa_xml: No such file or directory\n",
      "Failed to download PMC9745895.xml: 550 /pub/pmc/oa_xml: No such file or directory\n",
      "Failed to download PMC9736377.xml: 550 /pub/pmc/oa_xml: No such file or directory\n",
      "Failed to download PMC9673670.xml: 550 /pub/pmc/oa_xml: No such file or directory\n",
      "Failed to download PMC9423848.xml: 550 /pub/pmc/oa_xml: No such file or directory\n",
      "Failed to download PMC9376250.xml: 550 /pub/pmc/oa_xml: No such file or directory\n",
      "Failed to download PMC10078113.xml: 550 /pub/pmc/oa_xml: No such file or directory\n",
      "Failed to download PMC9323733.xml: 550 /pub/pmc/oa_xml: No such file or directory\n"
     ]
    },
    {
     "ename": "KeyboardInterrupt",
     "evalue": "",
     "output_type": "error",
     "traceback": [
      "\u001b[0;31m---------------------------------------------------------------------------\u001b[0m",
      "\u001b[0;31mKeyboardInterrupt\u001b[0m                         Traceback (most recent call last)",
      "Cell \u001b[0;32mIn[12], line 38\u001b[0m\n\u001b[1;32m     35\u001b[0m pmc_ids \u001b[38;5;241m=\u001b[39m load_pmc_ids(pmc_ids_file)\n\u001b[1;32m     37\u001b[0m \u001b[38;5;28;01mfor\u001b[39;00m pmc_id \u001b[38;5;129;01min\u001b[39;00m pmc_ids:\n\u001b[0;32m---> 38\u001b[0m     \u001b[43mdownload_paper\u001b[49m\u001b[43m(\u001b[49m\u001b[43mpmc_id\u001b[49m\u001b[43m,\u001b[49m\u001b[43m \u001b[49m\u001b[43moutput_dir\u001b[49m\u001b[43m)\u001b[49m\n",
      "Cell \u001b[0;32mIn[12], line 15\u001b[0m, in \u001b[0;36mdownload_paper\u001b[0;34m(pmc_id, output_dir)\u001b[0m\n\u001b[1;32m     12\u001b[0m ftp_path \u001b[38;5;241m=\u001b[39m \u001b[38;5;124mf\u001b[39m\u001b[38;5;124m'\u001b[39m\u001b[38;5;124m/pub/pmc/oa_xml/\u001b[39m\u001b[38;5;132;01m{\u001b[39;00mpmc_id\u001b[38;5;132;01m}\u001b[39;00m\u001b[38;5;124m.xml\u001b[39m\u001b[38;5;124m'\u001b[39m\n\u001b[1;32m     14\u001b[0m \u001b[38;5;28;01mtry\u001b[39;00m:\n\u001b[0;32m---> 15\u001b[0m     ftp \u001b[38;5;241m=\u001b[39m \u001b[43mFTP\u001b[49m\u001b[43m(\u001b[49m\u001b[43mftp_server\u001b[49m\u001b[43m)\u001b[49m\n\u001b[1;32m     16\u001b[0m     ftp\u001b[38;5;241m.\u001b[39mlogin()\n\u001b[1;32m     17\u001b[0m     ftp\u001b[38;5;241m.\u001b[39mcwd(os\u001b[38;5;241m.\u001b[39mpath\u001b[38;5;241m.\u001b[39mdirname(ftp_path))\n",
      "File \u001b[0;32m/Library/Developer/CommandLineTools/Library/Frameworks/Python3.framework/Versions/3.9/lib/python3.9/ftplib.py:121\u001b[0m, in \u001b[0;36mFTP.__init__\u001b[0;34m(self, host, user, passwd, acct, timeout, source_address, encoding)\u001b[0m\n\u001b[1;32m    119\u001b[0m \u001b[38;5;28mself\u001b[39m\u001b[38;5;241m.\u001b[39mtimeout \u001b[38;5;241m=\u001b[39m timeout\n\u001b[1;32m    120\u001b[0m \u001b[38;5;28;01mif\u001b[39;00m host:\n\u001b[0;32m--> 121\u001b[0m     \u001b[38;5;28;43mself\u001b[39;49m\u001b[38;5;241;43m.\u001b[39;49m\u001b[43mconnect\u001b[49m\u001b[43m(\u001b[49m\u001b[43mhost\u001b[49m\u001b[43m)\u001b[49m\n\u001b[1;32m    122\u001b[0m     \u001b[38;5;28;01mif\u001b[39;00m user:\n\u001b[1;32m    123\u001b[0m         \u001b[38;5;28mself\u001b[39m\u001b[38;5;241m.\u001b[39mlogin(user, passwd, acct)\n",
      "File \u001b[0;32m/Library/Developer/CommandLineTools/Library/Frameworks/Python3.framework/Versions/3.9/lib/python3.9/ftplib.py:162\u001b[0m, in \u001b[0;36mFTP.connect\u001b[0;34m(self, host, port, timeout, source_address)\u001b[0m\n\u001b[1;32m    160\u001b[0m \u001b[38;5;28mself\u001b[39m\u001b[38;5;241m.\u001b[39maf \u001b[38;5;241m=\u001b[39m \u001b[38;5;28mself\u001b[39m\u001b[38;5;241m.\u001b[39msock\u001b[38;5;241m.\u001b[39mfamily\n\u001b[1;32m    161\u001b[0m \u001b[38;5;28mself\u001b[39m\u001b[38;5;241m.\u001b[39mfile \u001b[38;5;241m=\u001b[39m \u001b[38;5;28mself\u001b[39m\u001b[38;5;241m.\u001b[39msock\u001b[38;5;241m.\u001b[39mmakefile(\u001b[38;5;124m'\u001b[39m\u001b[38;5;124mr\u001b[39m\u001b[38;5;124m'\u001b[39m, encoding\u001b[38;5;241m=\u001b[39m\u001b[38;5;28mself\u001b[39m\u001b[38;5;241m.\u001b[39mencoding)\n\u001b[0;32m--> 162\u001b[0m \u001b[38;5;28mself\u001b[39m\u001b[38;5;241m.\u001b[39mwelcome \u001b[38;5;241m=\u001b[39m \u001b[38;5;28;43mself\u001b[39;49m\u001b[38;5;241;43m.\u001b[39;49m\u001b[43mgetresp\u001b[49m\u001b[43m(\u001b[49m\u001b[43m)\u001b[49m\n\u001b[1;32m    163\u001b[0m \u001b[38;5;28;01mreturn\u001b[39;00m \u001b[38;5;28mself\u001b[39m\u001b[38;5;241m.\u001b[39mwelcome\n",
      "File \u001b[0;32m/Library/Developer/CommandLineTools/Library/Frameworks/Python3.framework/Versions/3.9/lib/python3.9/ftplib.py:244\u001b[0m, in \u001b[0;36mFTP.getresp\u001b[0;34m(self)\u001b[0m\n\u001b[1;32m    243\u001b[0m \u001b[38;5;28;01mdef\u001b[39;00m \u001b[38;5;21mgetresp\u001b[39m(\u001b[38;5;28mself\u001b[39m):\n\u001b[0;32m--> 244\u001b[0m     resp \u001b[38;5;241m=\u001b[39m \u001b[38;5;28;43mself\u001b[39;49m\u001b[38;5;241;43m.\u001b[39;49m\u001b[43mgetmultiline\u001b[49m\u001b[43m(\u001b[49m\u001b[43m)\u001b[49m\n\u001b[1;32m    245\u001b[0m     \u001b[38;5;28;01mif\u001b[39;00m \u001b[38;5;28mself\u001b[39m\u001b[38;5;241m.\u001b[39mdebugging:\n\u001b[1;32m    246\u001b[0m         \u001b[38;5;28mprint\u001b[39m(\u001b[38;5;124m'\u001b[39m\u001b[38;5;124m*resp*\u001b[39m\u001b[38;5;124m'\u001b[39m, \u001b[38;5;28mself\u001b[39m\u001b[38;5;241m.\u001b[39msanitize(resp))\n",
      "File \u001b[0;32m/Library/Developer/CommandLineTools/Library/Frameworks/Python3.framework/Versions/3.9/lib/python3.9/ftplib.py:230\u001b[0m, in \u001b[0;36mFTP.getmultiline\u001b[0;34m(self)\u001b[0m\n\u001b[1;32m    229\u001b[0m \u001b[38;5;28;01mdef\u001b[39;00m \u001b[38;5;21mgetmultiline\u001b[39m(\u001b[38;5;28mself\u001b[39m):\n\u001b[0;32m--> 230\u001b[0m     line \u001b[38;5;241m=\u001b[39m \u001b[38;5;28;43mself\u001b[39;49m\u001b[38;5;241;43m.\u001b[39;49m\u001b[43mgetline\u001b[49m\u001b[43m(\u001b[49m\u001b[43m)\u001b[49m\n\u001b[1;32m    231\u001b[0m     \u001b[38;5;28;01mif\u001b[39;00m line[\u001b[38;5;241m3\u001b[39m:\u001b[38;5;241m4\u001b[39m] \u001b[38;5;241m==\u001b[39m \u001b[38;5;124m'\u001b[39m\u001b[38;5;124m-\u001b[39m\u001b[38;5;124m'\u001b[39m:\n\u001b[1;32m    232\u001b[0m         code \u001b[38;5;241m=\u001b[39m line[:\u001b[38;5;241m3\u001b[39m]\n",
      "File \u001b[0;32m/Library/Developer/CommandLineTools/Library/Frameworks/Python3.framework/Versions/3.9/lib/python3.9/ftplib.py:212\u001b[0m, in \u001b[0;36mFTP.getline\u001b[0;34m(self)\u001b[0m\n\u001b[1;32m    211\u001b[0m \u001b[38;5;28;01mdef\u001b[39;00m \u001b[38;5;21mgetline\u001b[39m(\u001b[38;5;28mself\u001b[39m):\n\u001b[0;32m--> 212\u001b[0m     line \u001b[38;5;241m=\u001b[39m \u001b[38;5;28;43mself\u001b[39;49m\u001b[38;5;241;43m.\u001b[39;49m\u001b[43mfile\u001b[49m\u001b[38;5;241;43m.\u001b[39;49m\u001b[43mreadline\u001b[49m\u001b[43m(\u001b[49m\u001b[38;5;28;43mself\u001b[39;49m\u001b[38;5;241;43m.\u001b[39;49m\u001b[43mmaxline\u001b[49m\u001b[43m \u001b[49m\u001b[38;5;241;43m+\u001b[39;49m\u001b[43m \u001b[49m\u001b[38;5;241;43m1\u001b[39;49m\u001b[43m)\u001b[49m\n\u001b[1;32m    213\u001b[0m     \u001b[38;5;28;01mif\u001b[39;00m \u001b[38;5;28mlen\u001b[39m(line) \u001b[38;5;241m>\u001b[39m \u001b[38;5;28mself\u001b[39m\u001b[38;5;241m.\u001b[39mmaxline:\n\u001b[1;32m    214\u001b[0m         \u001b[38;5;28;01mraise\u001b[39;00m Error(\u001b[38;5;124m\"\u001b[39m\u001b[38;5;124mgot more than \u001b[39m\u001b[38;5;132;01m%d\u001b[39;00m\u001b[38;5;124m bytes\u001b[39m\u001b[38;5;124m\"\u001b[39m \u001b[38;5;241m%\u001b[39m \u001b[38;5;28mself\u001b[39m\u001b[38;5;241m.\u001b[39mmaxline)\n",
      "File \u001b[0;32m/Library/Developer/CommandLineTools/Library/Frameworks/Python3.framework/Versions/3.9/lib/python3.9/socket.py:704\u001b[0m, in \u001b[0;36mSocketIO.readinto\u001b[0;34m(self, b)\u001b[0m\n\u001b[1;32m    702\u001b[0m \u001b[38;5;28;01mwhile\u001b[39;00m \u001b[38;5;28;01mTrue\u001b[39;00m:\n\u001b[1;32m    703\u001b[0m     \u001b[38;5;28;01mtry\u001b[39;00m:\n\u001b[0;32m--> 704\u001b[0m         \u001b[38;5;28;01mreturn\u001b[39;00m \u001b[38;5;28;43mself\u001b[39;49m\u001b[38;5;241;43m.\u001b[39;49m\u001b[43m_sock\u001b[49m\u001b[38;5;241;43m.\u001b[39;49m\u001b[43mrecv_into\u001b[49m\u001b[43m(\u001b[49m\u001b[43mb\u001b[49m\u001b[43m)\u001b[49m\n\u001b[1;32m    705\u001b[0m     \u001b[38;5;28;01mexcept\u001b[39;00m timeout:\n\u001b[1;32m    706\u001b[0m         \u001b[38;5;28mself\u001b[39m\u001b[38;5;241m.\u001b[39m_timeout_occurred \u001b[38;5;241m=\u001b[39m \u001b[38;5;28;01mTrue\u001b[39;00m\n",
      "\u001b[0;31mKeyboardInterrupt\u001b[0m: "
     ]
    }
   ],
   "source": [
    "import json\n",
    "import os\n",
    "from ftplib import FTP\n",
    "\n",
    "def load_pmc_ids(filename):\n",
    "    with open(filename, 'r') as f:\n",
    "        pmc_ids = json.load(f)\n",
    "    return pmc_ids\n",
    "\n",
    "def download_paper(pmc_id, output_dir):\n",
    "    ftp_server = 'ftp.ncbi.nlm.nih.gov'\n",
    "    ftp_path = f'/pub/pmc/oa_xml/{pmc_id}.xml'\n",
    "\n",
    "    try:\n",
    "        ftp = FTP(ftp_server)\n",
    "        ftp.login()\n",
    "        ftp.cwd(os.path.dirname(ftp_path))\n",
    "        local_filename = os.path.join(output_dir, f\"{pmc_id}.xml\")\n",
    "\n",
    "        with open(local_filename, 'wb') as local_file:\n",
    "            ftp.retrbinary(f'RETR {os.path.basename(ftp_path)}', local_file.write)\n",
    "\n",
    "        print(f\"Downloaded {pmc_id}.xml\")\n",
    "        ftp.quit()\n",
    "    except Exception as e:\n",
    "        print(f\"Failed to download {pmc_id}.xml: {str(e)}\")\n",
    "\n",
    "\n",
    "pmc_ids_file = 'pmc_ids.json'  # The JSON file containing the list of PMC IDs\n",
    "output_dir = 'downloaded_papers'  # Directory to save the downloaded papers\n",
    "\n",
    "if not os.path.exists(output_dir):\n",
    "    os.makedirs(output_dir)\n",
    "\n",
    "pmc_ids = load_pmc_ids(pmc_ids_file)\n",
    "\n",
    "for pmc_id in pmc_ids:\n",
    "    download_paper(pmc_id, output_dir)\n",
    "\n",
    "\n"
   ]
  }
 ],
 "metadata": {
  "kernelspec": {
   "display_name": "Python 3",
   "language": "python",
   "name": "python3"
  },
  "language_info": {
   "codemirror_mode": {
    "name": "ipython",
    "version": 3
   },
   "file_extension": ".py",
   "mimetype": "text/x-python",
   "name": "python",
   "nbconvert_exporter": "python",
   "pygments_lexer": "ipython3",
   "version": "3.9.6"
  }
 },
 "nbformat": 4,
 "nbformat_minor": 2
}
