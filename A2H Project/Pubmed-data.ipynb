{
 "cells": [
  {
   "cell_type": "code",
   "execution_count": 1,
   "metadata": {},
   "outputs": [
    {
     "name": "stdout",
     "output_type": "stream",
     "text": [
      "Defaulting to user installation because normal site-packages is not writeable\n",
      "Collecting biopython\n",
      "  Downloading biopython-1.83-cp39-cp39-macosx_10_9_x86_64.whl (2.7 MB)\n",
      "\u001b[K     |████████████████████████████████| 2.7 MB 3.1 MB/s eta 0:00:01\n",
      "\u001b[?25hCollecting numpy\n",
      "  Downloading numpy-1.26.4-cp39-cp39-macosx_10_9_x86_64.whl (20.6 MB)\n",
      "\u001b[K     |████████████████████████████████| 20.6 MB 23.1 MB/s eta 0:00:01\n",
      "\u001b[?25hInstalling collected packages: numpy, biopython\n",
      "Successfully installed biopython-1.83 numpy-1.26.4\n",
      "\u001b[33mWARNING: You are using pip version 21.2.4; however, version 24.0 is available.\n",
      "You should consider upgrading via the '/Applications/Xcode.app/Contents/Developer/usr/bin/python3 -m pip install --upgrade pip' command.\u001b[0m\n",
      "Note: you may need to restart the kernel to use updated packages.\n"
     ]
    }
   ],
   "source": [
    "pip install biopython\n"
   ]
  },
  {
   "cell_type": "code",
   "execution_count": 2,
   "metadata": {},
   "outputs": [],
   "source": [
    "from Bio import Entrez\n",
    "import json\n",
    "\n",
    "# Always tell NCBI who you are (your email address)\n",
    "Entrez.email = 'abvishwakarma@ucdavis.edu'\n"
   ]
  },
  {
   "cell_type": "code",
   "execution_count": 9,
   "metadata": {},
   "outputs": [],
   "source": [
    "def search_pubmed(diseases, keywords):\n",
    "    base_db = 'pubmed'\n",
    "    results = []\n",
    "\n",
    "    for disease in diseases:\n",
    "        for keyword in keywords:\n",
    "            query = f'({disease}) AND {keyword}[Title/Abstract]'# AND \"animal model\"[Title/Abstract]'\n",
    "            handle = Entrez.esearch(db=base_db, term=query, retmax=50)\n",
    "            record = Entrez.read(handle)\n",
    "            id_list = record['IdList']\n",
    "            if id_list:  # Check if id_list is not empty\n",
    "                results.extend(fetch_details(id_list))\n",
    "            else:\n",
    "                print(f\"No results found for query: {query}\")\n",
    "\n",
    "    return results\n"
   ]
  },
  {
   "cell_type": "code",
   "execution_count": 7,
   "metadata": {},
   "outputs": [],
   "source": [
    "def fetch_details(id_list):\n",
    "    ids = ','.join(id_list)\n",
    "    handle = Entrez.efetch(db='pubmed', id=ids, retmode='xml')\n",
    "    articles = Entrez.read(handle)\n",
    "    article_details = []\n",
    "\n",
    "    for article in articles['PubmedArticle']:\n",
    "        title = article['MedlineCitation']['Article']['ArticleTitle']\n",
    "        abstract = article.get('MedlineCitation').get('Article').get('Abstract', {}).get('AbstractText', [])\n",
    "        abstract_text = \" \".join(abstract) if isinstance(abstract, list) else abstract\n",
    "        \n",
    "        article_info = {\n",
    "            'Title': title,\n",
    "            'Abstract': abstract_text\n",
    "        }\n",
    "        article_details.append(article_info)\n",
    "\n",
    "    return article_details\n"
   ]
  },
  {
   "cell_type": "code",
   "execution_count": 12,
   "metadata": {},
   "outputs": [],
   "source": [
    "# Advanced Fetch Details\n",
    "\n",
    "def fetch_details(id_list):\n",
    "    ids = ','.join(id_list)\n",
    "    handle = Entrez.efetch(db='pubmed', id=ids, retmode='xml')\n",
    "    articles = Entrez.read(handle)\n",
    "    article_details = []\n",
    "\n",
    "    for article in articles['PubmedArticle']:\n",
    "        title = article['MedlineCitation']['Article']['ArticleTitle']\n",
    "        abstract_texts = article.get('MedlineCitation', {}).get('Article', {}).get('Abstract', {}).get('AbstractText', [])\n",
    "        \n",
    "        # Combine all parts of the abstract into one string if it's split into sections\n",
    "        abstract = \" \".join(str(part) for part in abstract_texts) if isinstance(abstract_texts, list) else str(abstract_texts)\n",
    "\n",
    "        # Initialize a dictionary to store the extracted details\n",
    "        extracted_info = {\n",
    "            'Animal Model': extract_detail(abstract, 'animal model'),\n",
    "            'Age': extract_detail(abstract, 'age'),\n",
    "            'Weight': extract_detail(abstract, 'weight'),\n",
    "            'Sex': extract_detail(abstract, 'sex'),\n",
    "            'Disease Model': extract_detail(abstract, 'disease model'),\n",
    "            'Endpoint': extract_detail(abstract, 'endpoint')\n",
    "        }\n",
    "\n",
    "        article_info = {\n",
    "            'Title': title,\n",
    "            'Abstract': abstract,\n",
    "            'Details': extracted_info\n",
    "        }\n",
    "        article_details.append(article_info)\n",
    "\n",
    "    return article_details\n",
    "\n",
    "def extract_detail(abstract, keyword):\n",
    "    \"\"\"\n",
    "    A simple heuristic function to extract information related to a keyword.\n",
    "    This function searches for the keyword and extracts the subsequent text,\n",
    "    assuming the data follows the keyword.\n",
    "    \"\"\"\n",
    "    import re\n",
    "    # Search for keyword and capture the following words, assuming they detail the keyword\n",
    "    pattern = re.compile(r'\\b' + keyword + r'\\b\\s*[:]?([\\w\\s,]+)', re.IGNORECASE)\n",
    "    match = pattern.search(abstract)\n",
    "    return match.group(1) if match else 'Not specified'\n"
   ]
  },
  {
   "cell_type": "code",
   "execution_count": 13,
   "metadata": {},
   "outputs": [
    {
     "name": "stdout",
     "output_type": "stream",
     "text": [
      "Data has been written to pubmed_results.json\n"
     ]
    }
   ],
   "source": [
    "diseases = ['IBS', \"Crohn's Disease\", 'Celiac Disease']\n",
    "keywords = ['preclinical', 'rat', 'rodent', 'mice', 'animal', 'pig', 'hamster']\n",
    "\n",
    "articles = search_pubmed(diseases, keywords)\n",
    "\n",
    "# Specify the filename where you want to save the JSON data\n",
    "filename = 'pubmed_results.json'\n",
    "\n",
    "# Open the file in write mode and write the JSON data\n",
    "with open(filename, 'w') as f:\n",
    "    json.dump(articles, f, indent=4)\n",
    "\n",
    "print(f\"Data has been written to {filename}\")\n",
    "\n"
   ]
  }
 ],
 "metadata": {
  "kernelspec": {
   "display_name": "Python 3",
   "language": "python",
   "name": "python3"
  },
  "language_info": {
   "codemirror_mode": {
    "name": "ipython",
    "version": 3
   },
   "file_extension": ".py",
   "mimetype": "text/x-python",
   "name": "python",
   "nbconvert_exporter": "python",
   "pygments_lexer": "ipython3",
   "version": "3.9.6"
  }
 },
 "nbformat": 4,
 "nbformat_minor": 2
}
